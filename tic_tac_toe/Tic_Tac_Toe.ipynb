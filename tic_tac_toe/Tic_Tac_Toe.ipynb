{
 "cells": [
  {
   "cell_type": "code",
   "execution_count": null,
   "id": "31121aa5",
   "metadata": {},
   "outputs": [
    {
     "name": "stdout",
     "output_type": "stream",
     "text": [
      "\n",
      "|   |   |   |\n",
      "|   |   |   |\n",
      "|   |   |   |\n",
      "\n",
      "Player X's turn\n"
     ]
    }
   ],
   "source": [
    "board = [' ' for x in range(9)]\n",
    "\n",
    "def print_board():\n",
    "    row1 = \"| {} | {} | {} |\".format(board[0], board[1], board[2])\n",
    "    row2 = \"| {} | {} | {} |\".format(board[3], board[4], board[5])\n",
    "    row3 = \"| {} | {} | {} |\".format(board[6], board[7], board[8])\n",
    "\n",
    "    print()\n",
    "    print(row1)\n",
    "    print(row2)\n",
    "    print(row3)\n",
    "    print()\n",
    "\n",
    "def player_move(icon):\n",
    "    choice = int(input(\"Enter your move (1-9): \").strip()) - 1\n",
    "    if board[choice] == ' ':\n",
    "        board[choice] = icon\n",
    "    else:\n",
    "        print(\"That space is already taken!\")\n",
    "        player_move(icon)\n",
    "\n",
    "def is_victory(icon):\n",
    "    win_combinations = [(0, 1, 2), (3, 4, 5), (6, 7, 8), (0, 3, 6), \n",
    "                        (1, 4, 7), (2, 5, 8), (0, 4, 8), (2, 4, 6)]\n",
    "    for a, b, c in win_combinations:\n",
    "        if board[a] == icon and board[b] == icon and board[c] == icon:\n",
    "            return True\n",
    "    return False\n",
    "\n",
    "def is_draw():\n",
    "    return ' ' not in board\n",
    "\n",
    "player_turn = 'X'\n",
    "while True:\n",
    "    print_board()\n",
    "    print(f\"Player {player_turn}'s turn\")\n",
    "    player_move(player_turn)\n",
    "    if is_victory(player_turn):\n",
    "        print_board()\n",
    "        print(f\"Player {player_turn} wins! Congratulations!\")\n",
    "        break\n",
    "    elif is_draw():\n",
    "        print_board()\n",
    "        print(\"It's a draw!\")\n",
    "        break\n",
    "    player_turn = 'O' if player_turn == 'X' else 'X'\n"
   ]
  }
 ],
 "metadata": {
  "kernelspec": {
   "display_name": "Python 3 (ipykernel)",
   "language": "python",
   "name": "python3"
  },
  "language_info": {
   "codemirror_mode": {
    "name": "ipython",
    "version": 3
   },
   "file_extension": ".py",
   "mimetype": "text/x-python",
   "name": "python",
   "nbconvert_exporter": "python",
   "pygments_lexer": "ipython3",
   "version": "3.8.7"
  }
 },
 "nbformat": 4,
 "nbformat_minor": 5
}
