{
 "cells": [
  {
   "cell_type": "code",
   "execution_count": null,
   "id": "184033b3",
   "metadata": {},
   "outputs": [],
   "source": [
    "import random\n",
    "print(\"Playing stone, Paper, Scissor\")\n",
    "x = int(input(\"how many rounds: \"))\n",
    "score = 0\n",
    "tie = 0\n",
    "def win():\n",
    "    global score\n",
    "    print(\"You win this round\")\n",
    "    score = score + 1\n",
    "    print(score)\n",
    "def loss():\n",
    "    global score\n",
    "    print(\"You lost this round\")\n",
    "    print(score)\n",
    "for i in range(0,x):\n",
    "    print(\"1 for Stone| 2 for Paper| 3 for Scissor\")\n",
    "    n=int(input(\"Your gesture is : \"))\n",
    "    p = random.randint(1,3)\n",
    "    if(p == 1):\n",
    "        print(\"Computer : Stone\")\n",
    "    elif (p == 2) :\n",
    "        print(\"Computer: Paper\")\n",
    "    else:\n",
    "        print(\"Computer: Scissor\")\n",
    "    if(n == p):\n",
    "     print(\"tie\")\n",
    "     print(score)\n",
    "     tie = tie + 1\n",
    "    elif(n==1):\n",
    "        if(p==2):\n",
    "            loss()\n",
    "        else:\n",
    "            win()\n",
    "    elif(n==2):\n",
    "        if(p==3):\n",
    "            loss()\n",
    "        else:\n",
    "            win()\n",
    "    else:\n",
    "        if(p==1):\n",
    "            loss()\n",
    "        else:\n",
    "            win()\n",
    "print(\"Out of \"+str(x)+ \" rounds you have won \"+str(score)+\" rounds and \"+str(tie)+\" were tie. Score of computer is \"+str(x-score-tie))\n",
    "if(score > (x-score-tie)):\n",
    "    print(\" Hence you are the winner of game\")\n",
    "else:\n",
    "    print(\"Hence You lost the game\")"
   ]
  }
 ],
 "metadata": {
  "kernelspec": {
   "display_name": "Python 3 (ipykernel)",
   "language": "python",
   "name": "python3"
  },
  "language_info": {
   "codemirror_mode": {
    "name": "ipython",
    "version": 3
   },
   "file_extension": ".py",
   "mimetype": "text/x-python",
   "name": "python",
   "nbconvert_exporter": "python",
   "pygments_lexer": "ipython3",
   "version": "3.8.7"
  }
 },
 "nbformat": 4,
 "nbformat_minor": 5
}
